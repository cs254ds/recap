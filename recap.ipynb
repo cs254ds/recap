{
 "cells": [
  {
   "cell_type": "code",
   "execution_count": 1,
   "metadata": {},
   "outputs": [
    {
     "name": "stdout",
     "output_type": "stream",
     "text": [
      "The model of the car is a golf\n"
     ]
    }
   ],
   "source": [
    "# Writing a function\n",
    "print('The model of the car is a golf')"
   ]
  },
  {
   "cell_type": "code",
   "execution_count": 10,
   "metadata": {},
   "outputs": [
    {
     "name": "stdout",
     "output_type": "stream",
     "text": [
      "25\n"
     ]
    }
   ],
   "source": [
    "#Function with arguments\n",
    "def square_number(num):\n",
    "    result = num * num\n",
    "    return result\n",
    "print(square_number(5))"
   ]
  },
  {
   "cell_type": "code",
   "execution_count": 35,
   "metadata": {},
   "outputs": [
    {
     "data": {
      "text/plain": [
       "6"
      ]
     },
     "execution_count": 35,
     "metadata": {},
     "output_type": "execute_result"
    }
   ],
   "source": [
    "travel_destinations = ['Argentina','Mexico','Italy','Finland','Canada','Croatia']\n",
    "def number_of_destinations():\n",
    "    number_of_destinations = len(travel_destinations)\n",
    "    return number_of_destinations\n",
    "number_of_destinations()"
   ]
  },
  {
   "cell_type": "code",
   "execution_count": 1,
   "metadata": {},
   "outputs": [],
   "source": [
    "def add_favorite_destination():\n",
    "    travel_destinations.append(favorite_destination())\n",
    "    \n",
    "    add_favorite_destinations()"
   ]
  },
  {
   "cell_type": "code",
   "execution_count": 2,
   "metadata": {},
   "outputs": [
    {
     "data": {
      "text/plain": [
       "'Madagascar'"
      ]
     },
     "execution_count": 2,
     "metadata": {},
     "output_type": "execute_result"
    }
   ],
   "source": [
    "def favorite_destination():\n",
    "    return 'Madagascar'\n",
    "favorite_destination()"
   ]
  },
  {
   "cell_type": "code",
   "execution_count": 44,
   "metadata": {
    "scrolled": true
   },
   "outputs": [
    {
     "name": "stdout",
     "output_type": "stream",
     "text": [
      "Hello, Mwiks\n"
     ]
    }
   ],
   "source": [
    "#name here is global\n",
    "name = 'Mwiks'\n",
    "def greeting():\n",
    "    print(f\"Hello, {name}\")\n",
    "\n",
    "greeting()"
   ]
  },
  {
   "cell_type": "code",
   "execution_count": 45,
   "metadata": {},
   "outputs": [
    {
     "name": "stdout",
     "output_type": "stream",
     "text": [
      "Hello, Eva\n"
     ]
    }
   ],
   "source": [
    "#second_name here is local\n",
    "def greeting():\n",
    "    second_name = \"Eva\"\n",
    "    print(f\"Hello, {second_name}\")\n",
    "greeting()"
   ]
  },
  {
   "cell_type": "code",
   "execution_count": 46,
   "metadata": {},
   "outputs": [
    {
     "name": "stdout",
     "output_type": "stream",
     "text": [
      "Hello Bernaddette\n"
     ]
    }
   ],
   "source": [
    "#changing a local variable to global\n",
    "def make_global():\n",
    "    global third_name #makes third_name global\n",
    "    third_name = \"Bernaddette\"\n",
    "    print(f\"Hello {third_name}\")\n",
    "make_global()"
   ]
  },
  {
   "cell_type": "code",
   "execution_count": 47,
   "metadata": {},
   "outputs": [
    {
     "data": {
      "text/plain": [
       "'Bernaddette'"
      ]
     },
     "execution_count": 47,
     "metadata": {},
     "output_type": "execute_result"
    }
   ],
   "source": [
    "third_name"
   ]
  },
  {
   "cell_type": "code",
   "execution_count": 48,
   "metadata": {},
   "outputs": [
    {
     "data": {
      "text/plain": [
       "['Argentina', 'Mexico', 'Italy', 'Finland', 'Canada', 'Croatia', 'Madagascar']"
      ]
     },
     "execution_count": 48,
     "metadata": {},
     "output_type": "execute_result"
    }
   ],
   "source": [
    "travel_destinations=['Argentina','Mexico','Italy','Finland','Canada','Croatia']\n",
    "\n",
    "def favorite_destination():\n",
    "    return 'Madagascar'\n",
    "favorite_destination()\n",
    "\n",
    "def add_favorite_destination():\n",
    "    travel_destinations.append(favorite_destination())\n",
    "    return travel_destinations\n",
    "add_favorite_destination()"
   ]
  },
  {
   "cell_type": "code",
   "execution_count": 51,
   "metadata": {},
   "outputs": [
    {
     "name": "stdout",
     "output_type": "stream",
     "text": [
      "['Argentina', 'Mexico', 'Italy', 'Finland', 'Canada', 'Croatia', 'Madagascar', 'Madagascar', 'Madagascar']\n"
     ]
    }
   ],
   "source": [
    "#Step 2\n",
    "def favorite_destination():\n",
    "    return 'Madagascar'\n",
    "favorite_destination()\n",
    "\n",
    "#Step 3\n",
    "def add_favorite_destination():\n",
    "    travel_destinations.append(favorite_destination())\n",
    "    return travel_destinations\n",
    "add_favorite_destination()\n",
    "#travel_destinations[-1]\n",
    "\n",
    "\n",
    "#Step 4\n",
    "print(travel_destinations)"
   ]
  },
  {
   "cell_type": "code",
   "execution_count": null,
   "metadata": {},
   "outputs": [],
   "source": [
    "from PIL import Image\n",
    "\n",
    "# Load the image using PIL\n",
    "image = Image.open(\"trial.png\")\n",
    "\n",
    "# Convert the image to a NumPy array\n",
    "image_array = np.array(image)\n",
    "\n",
    "# Define the target width and height\n",
    "target_width = 800\n",
    "target_height = 600\n",
    "\n",
    "# Resize the image array using numpy.resize()\n",
    "resized_array = np.resize(image_array, (target_height, target_width, 3))  # Assuming RGB image (3 channels)\n",
    "\n",
    "# Convert the resized array back to an image\n",
    "resized_image = Image.fromarray(resized_array)\n",
    "# Save the resized image\n",
    "resized_image.save(\"resized_trial.png\")"
   ]
  },
  {
   "cell_type": "code",
   "execution_count": null,
   "metadata": {},
   "outputs": [],
   "source": []
  }
 ],
 "metadata": {
  "kernelspec": {
   "display_name": "Python (learn-env)",
   "language": "python",
   "name": "learn-env"
  },
  "language_info": {
   "codemirror_mode": {
    "name": "ipython",
    "version": 3
   },
   "file_extension": ".py",
   "mimetype": "text/x-python",
   "name": "python",
   "nbconvert_exporter": "python",
   "pygments_lexer": "ipython3",
   "version": "3.8.5"
  }
 },
 "nbformat": 4,
 "nbformat_minor": 4
}
